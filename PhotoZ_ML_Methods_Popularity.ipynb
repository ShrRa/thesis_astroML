{
 "cells": [
  {
   "cell_type": "code",
   "execution_count": 15,
   "metadata": {},
   "outputs": [],
   "source": [
    "import pandas as pd\n",
    "import AdsAbsRequester\n",
    "from collections import Counter\n",
    "import matplotlib.pyplot as plt"
   ]
  },
  {
   "cell_type": "code",
   "execution_count": 16,
   "metadata": {},
   "outputs": [],
   "source": [
    "token=\"KDaPKeB4q7noKbg00u3gjlqszxYEWQ94YguJ0OmR\"\n",
    "requester=AdsAbsRequester.Requester(token,'testRequest')"
   ]
  },
  {
   "cell_type": "code",
   "execution_count": 38,
   "metadata": {},
   "outputs": [],
   "source": [
    "searchCriteria=('year:2000-2020','database:astronomy','property:refereed',\n",
    "                'title:\"photometric redshift\"')\n",
    "addCriteria={'DNN+CNN':'abs:(\"deep neural network\" or \"convolutional neural network\")',\n",
    "            'RF+DT':'abs:(\"random forest\" or \"decision tree\" or \"TPZ\")',\n",
    "            'SVM':'abs:(\"support vector machine\")',\n",
    "            'Gaussian process':'abs:(\"gaussian process\" or \"gaussian processes\")',\n",
    "            'SOM':'abs:(\"self-organizing map\")',\n",
    "            'k-NN':'abs:(\"k-nearest neighbor\")',\n",
    "            'Shallow NN':'abs:(\"neural network\" or \"perceptron\" or \"neural-network\") -abs:(\"deep neural network\" or \"convolutional neural network\")',\n",
    "            'Other':'abs:\"machine learning\" -abs:(\"neural network\" or \"perceptron\" or \"TPZ\" or \"Mixture\" or \"Gaussian process\" or \"Gaussian processes\" or \"support vector machine\" or \"self-organizing map\" or \"decision tree\" or \"random forest\")'}"
   ]
  },
  {
   "cell_type": "code",
   "execution_count": 40,
   "metadata": {},
   "outputs": [
    {
     "name": "stdout",
     "output_type": "stream",
     "text": [
      "DNN+CNN\n",
      "RF+DT\n",
      "SVM\n",
      "Gaussian process\n",
      "SOM\n",
      "k-NN\n",
      "Shallow NN\n",
      "Other\n"
     ]
    }
   ],
   "source": [
    "counts={}\n",
    "requester.setParams(searchCriteria+('machine learning',))\n",
    "requester.loadData()\n",
    "counts['Total']=requester.response.json()['response']['numFound']\n",
    "for key,val in addCriteria.items():\n",
    "    print(key)\n",
    "    req=searchCriteria+(val,)\n",
    "    requester.setParams(req)\n",
    "    requester.loadData()\n",
    "    counts[key]=requester.response.json()['response']['numFound']"
   ]
  },
  {
   "cell_type": "code",
   "execution_count": 41,
   "metadata": {},
   "outputs": [
    {
     "data": {
      "text/plain": [
       "{'Total': 54,\n",
       " 'DNN+CNN': 8,\n",
       " 'RF+DT': 20,\n",
       " 'SVM': 6,\n",
       " 'Gaussian process': 10,\n",
       " 'SOM': 12,\n",
       " 'k-NN': 9,\n",
       " 'Shallow NN': 45,\n",
       " 'Other': 20}"
      ]
     },
     "execution_count": 41,
     "metadata": {},
     "output_type": "execute_result"
    }
   ],
   "source": [
    "counts"
   ]
  },
  {
   "cell_type": "code",
   "execution_count": null,
   "metadata": {},
   "outputs": [],
   "source": [
    "del counts['Total']"
   ]
  },
  {
   "cell_type": "code",
   "execution_count": 70,
   "metadata": {},
   "outputs": [
    {
     "data": {
      "text/plain": [
       "([<matplotlib.patches.Wedge at 0x7fcf0e931f98>,\n",
       "  <matplotlib.patches.Wedge at 0x7fcf0e93b438>,\n",
       "  <matplotlib.patches.Wedge at 0x7fcf0e93b8d0>,\n",
       "  <matplotlib.patches.Wedge at 0x7fcf0e93bd68>,\n",
       "  <matplotlib.patches.Wedge at 0x7fcf0e947240>,\n",
       "  <matplotlib.patches.Wedge at 0x7fcf0e9476d8>,\n",
       "  <matplotlib.patches.Wedge at 0x7fcf0e947b70>,\n",
       "  <matplotlib.patches.Wedge at 0x7fcf0e955048>],\n",
       " [Text(1.079507138715303, 0.21133938928344606, 'DNN+CNN, 8'),\n",
       "  Text(0.7093264185692548, 0.8407473056273892, 'RF+DT, 20'),\n",
       "  Text(0.07967823691748083, 1.0971104678024552, 'SVM, 6'),\n",
       "  Text(-0.3399187476842659, 1.0461621504206509, 'Gaussian process, 10'),\n",
       "  Text(-0.823361871582463, 0.7294348692132999, 'SOM, 12'),\n",
       "  Text(-1.0740852064569135, 0.23736252709812816, 'k-NN, 9'),\n",
       "  Text(-0.5111953699962625, -0.974001690806738, 'Shallow NN, 45'),\n",
       "  Text(0.9740017147375195, -0.5111953243999517, 'Other, 20')])"
      ]
     },
     "execution_count": 70,
     "metadata": {},
     "output_type": "execute_result"
    },
    {
     "data": {
      "image/png": "[encoded data removed]",
      "text/plain": [
       "<Figure size 432x432 with 1 Axes>"
      ]
     },
     "metadata": {},
     "output_type": "display_data"
    }
   ],
   "source": [
    "fix,axs=plt.subplots(1,1,figsize=(6,6))\n",
    "labels=[c+', '+str(v) for c,v in counts.items()]\n",
    "axs.pie(list(counts.values()),labels=labels,textprops={'fontsize': 12})"
   ]
  },
  {
   "cell_type": "code",
   "execution_count": null,
   "metadata": {},
   "outputs": [],
   "source": []
  }
 ],
 "metadata": {
  "kernelspec": {
   "display_name": "Python 3",
   "language": "python",
   "name": "python3"
  },
  "language_info": {
   "codemirror_mode": {
    "name": "ipython",
    "version": 3
   },
   "file_extension": ".py",
   "mimetype": "text/x-python",
   "name": "python",
   "nbconvert_exporter": "python",
   "pygments_lexer": "ipython3",
   "version": "3.7.3"
  }
 },
 "nbformat": 4,
 "nbformat_minor": 2
}
