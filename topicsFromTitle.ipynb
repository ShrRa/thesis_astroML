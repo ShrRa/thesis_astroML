{
 "cells": [
  {
   "cell_type": "code",
   "execution_count": 1,
   "metadata": {},
   "outputs": [],
   "source": [
    "import pandas as pd\n",
    "import AdsAbsRequester\n",
    "from collections import Counter"
   ]
  },
  {
   "cell_type": "code",
   "execution_count": 2,
   "metadata": {},
   "outputs": [],
   "source": [
    "token=\"KDaPKeB4q7noKbg00u3gjlqszxYEWQ94YguJ0OmR\"\n",
    "requester=AdsAbsRequester.Requester(token,'testRequest')\n",
    "years=range(2019,2020)"
   ]
  },
  {
   "cell_type": "code",
   "execution_count": 3,
   "metadata": {},
   "outputs": [],
   "source": [
    "delCols=['page_count', 'author', 'aff', 'citation_count', 'author_count','bibstem','pubdate', 'keyword']\n",
    "def responseToPandas(response: list):\n",
    "    df=pd.DataFrame(columns=['title'])\n",
    "    for rec in response:\n",
    "        r=rec\n",
    "        for c in delCols:\n",
    "            r.pop(c,None)\n",
    "        df=df.append(r,ignore_index=True)\n",
    "    return df"
   ]
  },
  {
   "cell_type": "code",
   "execution_count": 4,
   "metadata": {},
   "outputs": [],
   "source": [
    "def request(year: int, additional:str='', propertyField: str='',doctypeField:str='')->int:\n",
    "    searchCriteria=('year:'+str(year),'database:astronomy')\n",
    "    if propertyField!='':\n",
    "        if propertyField not in ('refereed','notrefereed'):\n",
    "            raise ValueError()\n",
    "        else:\n",
    "            searchCriteria=searchCriteria+('property:'+propertyField,)\n",
    "    if doctypeField!='':\n",
    "        if doctypeField not in ('article','eprint','inproceedings','abstract','catalog'):\n",
    "            raise ValueError()\n",
    "        else:\n",
    "            searchCriteria=searchCriteria+('doctype:'+doctypeField,)\n",
    "    if additional!='':\n",
    "        searchCriteria=searchCriteria+(additional,)\n",
    "    requester.setParams(searchCriteria)\n",
    "    requester.loadData()\n",
    "    df=responseToPandas(requester.response.json()['response']['docs'])\n",
    "    return df"
   ]
  },
  {
   "cell_type": "code",
   "execution_count": null,
   "metadata": {},
   "outputs": [],
   "source": [
    "data={}\n",
    "for year in years:\n",
    "    data[year]=request(year,additional='abs:\"machine learning\"',propertyField='refereed')"
   ]
  }
 ],
 "metadata": {
  "kernelspec": {
   "display_name": "Python 3",
   "language": "python",
   "name": "python3"
  },
  "language_info": {
   "codemirror_mode": {
    "name": "ipython",
    "version": 3
   },
   "file_extension": ".py",
   "mimetype": "text/x-python",
   "name": "python",
   "nbconvert_exporter": "python",
   "pygments_lexer": "ipython3",
   "version": "3.7.3"
  }
 },
 "nbformat": 4,
 "nbformat_minor": 2
}
